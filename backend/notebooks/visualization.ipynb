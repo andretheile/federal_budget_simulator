{
 "cells": [
  {
   "cell_type": "markdown",
   "metadata": {},
   "source": [
    "# Federal Budget Simulator - Visualization"
   ]
  },
  {
   "cell_type": "code",
   "execution_count": null,
   "metadata": {},
   "outputs": [],
   "source": [
    "print('Hello from the new notebook!')"
   ]
  },
  {
   "cell_type": "markdown",
   "metadata": {},
   "source": [
    "## Fetching Federal Budget Data"
   ]
  },
  {
   "cell_type": "code",
   "execution_count": null,
   "metadata": {},
   "outputs": [],
   "source": [
    "import requests\n",
    "import json\n",
    "\n",
    "url = 'https://bundeshaushalt.de/internalapi/budgetData'",
    "params = {",
    "    'year': 2021,",
    "    'account': 'expenses'",
    "}",
    "\n",
    "response = requests.get(url, params=params)",
    "\n",
    "if response.status_code == 200:",
    "    data = response.json()",
    "    print(json.dumps(data, indent=2, ensure_ascii=False))",
    "else:",
    "    print(f'Error: {response.status_code}')"
   ]
  }
 ],
 "metadata": {
  "kernelspec": {
   "display_name": "Python 3",
   "language": "python",
   "name": "python3"
  },
  "language_info": {
   "name": "python",
   "version": "3.12.3"
  }
 },
 "nbformat": 4,
 "nbformat_minor": 4
}